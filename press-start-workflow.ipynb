{
 "cells": [
  {
   "cell_type": "code",
   "execution_count": 1,
   "id": "c7a02adb",
   "metadata": {},
   "outputs": [],
   "source": [
    "import pandas as pd\n",
    "import numpy as np\n",
    "from matplotlib import pyplot as plt\n",
    "import seaborn as sns\n",
    "import sklearn.preprocessing\n",
    "from sklearn.model_selection import train_test_split"
   ]
  },
  {
   "cell_type": "code",
   "execution_count": null,
   "id": "72b8df07",
   "metadata": {},
   "outputs": [],
   "source": [
    "games = pd.read_csv('vgsales.csv')"
   ]
  },
  {
   "cell_type": "code",
   "execution_count": null,
   "id": "6edfbd92",
   "metadata": {},
   "outputs": [],
   "source": [
    "# Verify data was pulled in successfully.\n",
    "games"
   ]
  },
  {
   "cell_type": "code",
   "execution_count": null,
   "id": "785017b0",
   "metadata": {},
   "outputs": [],
   "source": [
    "# Check datatypes for the columns.\n",
    "games.info()"
   ]
  },
  {
   "cell_type": "code",
   "execution_count": null,
   "id": "8b1bb4e0",
   "metadata": {},
   "outputs": [],
   "source": [
    "games.Year.isnull().sum()"
   ]
  },
  {
   "cell_type": "markdown",
   "id": "3619650f",
   "metadata": {},
   "source": [
    "## Takeaways\n",
    "* The 'Year' column has missing values, so I will have to drop the missing values before converting to and integer datatype.\n",
    "* I will also drop missing values from all other columns as well."
   ]
  },
  {
   "cell_type": "code",
   "execution_count": null,
   "id": "23bb9670",
   "metadata": {},
   "outputs": [],
   "source": [
    "# Drop missing values.\n",
    "games.dropna(inplace=True)"
   ]
  },
  {
   "cell_type": "code",
   "execution_count": null,
   "id": "76c910ce",
   "metadata": {},
   "outputs": [],
   "source": [
    "games.info()"
   ]
  },
  {
   "cell_type": "code",
   "execution_count": null,
   "id": "fba35e47",
   "metadata": {},
   "outputs": [],
   "source": [
    "# Convert 'Year' column into integer datatype.\n",
    "games.Year = games.Year.astype(int)"
   ]
  },
  {
   "cell_type": "code",
   "execution_count": null,
   "id": "90d77256",
   "metadata": {},
   "outputs": [],
   "source": [
    "# Verify change.\n",
    "games.info()"
   ]
  },
  {
   "cell_type": "code",
   "execution_count": null,
   "id": "dca945f8",
   "metadata": {},
   "outputs": [],
   "source": [
    "# Lowercase all columns.\n",
    "columns = [col.lower() for col in games.columns]\n",
    "games.columns = columns"
   ]
  },
  {
   "cell_type": "code",
   "execution_count": null,
   "id": "f66387c0",
   "metadata": {},
   "outputs": [],
   "source": [
    "# Drop all observations where global sales are less than one million.\n",
    "games = games[games.global_sales > 1.0]"
   ]
  },
  {
   "cell_type": "code",
   "execution_count": null,
   "id": "1c606321",
   "metadata": {
    "scrolled": false
   },
   "outputs": [],
   "source": [
    "# Create a dataframe for the games that sold less than a million copies globally.\n",
    "low_sales = games[games.global_sales < 1.0]"
   ]
  },
  {
   "cell_type": "code",
   "execution_count": null,
   "id": "51be2aff",
   "metadata": {},
   "outputs": [],
   "source": [
    "# Take a peek at the different platforms that produced a game/games that sold over one million globally.\n",
    "games.platform.value_counts()"
   ]
  },
  {
   "cell_type": "code",
   "execution_count": null,
   "id": "6866977c",
   "metadata": {},
   "outputs": [],
   "source": [
    "games"
   ]
  },
  {
   "cell_type": "markdown",
   "id": "77b7105a",
   "metadata": {},
   "source": [
    "# Takeaways\n",
    "* I have the dataframe in a state where I am ready to begin Exploratory Data Analysis.\n",
    "* My target variable will be 'na_sales'.\n",
    "* I will have to drop 'global_sales' to prevent data leakage."
   ]
  },
  {
   "cell_type": "code",
   "execution_count": 2,
   "id": "246b48d6",
   "metadata": {},
   "outputs": [],
   "source": [
    "# Create a function that will acquire the data and prepare it for Exploratory Data Analysis\n",
    "def acquire_and_prep():\n",
    "    games = pd.read_csv('vgsales.csv')\n",
    "    # Drop missing values.\n",
    "    games.dropna(inplace=True)\n",
    "    # Convert 'Year' column into integer datatype.\n",
    "    games.Year = games.Year.astype(int)\n",
    "    # Lowercase all columns.\n",
    "    columns = [col.lower() for col in games.columns]\n",
    "    games.columns = columns\n",
    "    # Drop all observations where global sales are less than one million.\n",
    "    games = games[games.global_sales > 1.0]\n",
    "    return games"
   ]
  },
  {
   "cell_type": "code",
   "execution_count": 3,
   "id": "236be480",
   "metadata": {},
   "outputs": [],
   "source": [
    "games = acquire_and_prep()"
   ]
  },
  {
   "cell_type": "code",
   "execution_count": 71,
   "id": "52c5ea83",
   "metadata": {},
   "outputs": [],
   "source": [
    "# Create a column that gives the age of the game as opposed to the year it was released.\n",
    "games['age'] = 2022 - games.year"
   ]
  },
  {
   "cell_type": "code",
   "execution_count": 73,
   "id": "390085c4",
   "metadata": {},
   "outputs": [],
   "source": [
    "# Create a column that combines all sales outside of North America\n",
    "games['combined_sales'] = games.eu_sales + games.jp_sales + games.other_sales"
   ]
  },
  {
   "cell_type": "code",
   "execution_count": 74,
   "id": "1db75635",
   "metadata": {},
   "outputs": [
    {
     "data": {
      "text/html": [
       "<div>\n",
       "<style scoped>\n",
       "    .dataframe tbody tr th:only-of-type {\n",
       "        vertical-align: middle;\n",
       "    }\n",
       "\n",
       "    .dataframe tbody tr th {\n",
       "        vertical-align: top;\n",
       "    }\n",
       "\n",
       "    .dataframe thead th {\n",
       "        text-align: right;\n",
       "    }\n",
       "</style>\n",
       "<table border=\"1\" class=\"dataframe\">\n",
       "  <thead>\n",
       "    <tr style=\"text-align: right;\">\n",
       "      <th></th>\n",
       "      <th>rank</th>\n",
       "      <th>name</th>\n",
       "      <th>platform</th>\n",
       "      <th>year</th>\n",
       "      <th>genre</th>\n",
       "      <th>publisher</th>\n",
       "      <th>na_sales</th>\n",
       "      <th>eu_sales</th>\n",
       "      <th>jp_sales</th>\n",
       "      <th>other_sales</th>\n",
       "      <th>global_sales</th>\n",
       "      <th>age</th>\n",
       "      <th>combined_sales</th>\n",
       "    </tr>\n",
       "  </thead>\n",
       "  <tbody>\n",
       "    <tr>\n",
       "      <th>0</th>\n",
       "      <td>1</td>\n",
       "      <td>Wii Sports</td>\n",
       "      <td>Wii</td>\n",
       "      <td>2006</td>\n",
       "      <td>Sports</td>\n",
       "      <td>Nintendo</td>\n",
       "      <td>41.49</td>\n",
       "      <td>29.02</td>\n",
       "      <td>3.77</td>\n",
       "      <td>8.46</td>\n",
       "      <td>82.74</td>\n",
       "      <td>16</td>\n",
       "      <td>41.25</td>\n",
       "    </tr>\n",
       "    <tr>\n",
       "      <th>1</th>\n",
       "      <td>2</td>\n",
       "      <td>Super Mario Bros.</td>\n",
       "      <td>NES</td>\n",
       "      <td>1985</td>\n",
       "      <td>Platform</td>\n",
       "      <td>Nintendo</td>\n",
       "      <td>29.08</td>\n",
       "      <td>3.58</td>\n",
       "      <td>6.81</td>\n",
       "      <td>0.77</td>\n",
       "      <td>40.24</td>\n",
       "      <td>37</td>\n",
       "      <td>11.16</td>\n",
       "    </tr>\n",
       "    <tr>\n",
       "      <th>2</th>\n",
       "      <td>3</td>\n",
       "      <td>Mario Kart Wii</td>\n",
       "      <td>Wii</td>\n",
       "      <td>2008</td>\n",
       "      <td>Racing</td>\n",
       "      <td>Nintendo</td>\n",
       "      <td>15.85</td>\n",
       "      <td>12.88</td>\n",
       "      <td>3.79</td>\n",
       "      <td>3.31</td>\n",
       "      <td>35.82</td>\n",
       "      <td>14</td>\n",
       "      <td>19.98</td>\n",
       "    </tr>\n",
       "    <tr>\n",
       "      <th>3</th>\n",
       "      <td>4</td>\n",
       "      <td>Wii Sports Resort</td>\n",
       "      <td>Wii</td>\n",
       "      <td>2009</td>\n",
       "      <td>Sports</td>\n",
       "      <td>Nintendo</td>\n",
       "      <td>15.75</td>\n",
       "      <td>11.01</td>\n",
       "      <td>3.28</td>\n",
       "      <td>2.96</td>\n",
       "      <td>33.00</td>\n",
       "      <td>13</td>\n",
       "      <td>17.25</td>\n",
       "    </tr>\n",
       "    <tr>\n",
       "      <th>4</th>\n",
       "      <td>5</td>\n",
       "      <td>Pokemon Red/Pokemon Blue</td>\n",
       "      <td>GB</td>\n",
       "      <td>1996</td>\n",
       "      <td>Role-Playing</td>\n",
       "      <td>Nintendo</td>\n",
       "      <td>11.27</td>\n",
       "      <td>8.89</td>\n",
       "      <td>10.22</td>\n",
       "      <td>1.00</td>\n",
       "      <td>31.37</td>\n",
       "      <td>26</td>\n",
       "      <td>20.11</td>\n",
       "    </tr>\n",
       "    <tr>\n",
       "      <th>...</th>\n",
       "      <td>...</td>\n",
       "      <td>...</td>\n",
       "      <td>...</td>\n",
       "      <td>...</td>\n",
       "      <td>...</td>\n",
       "      <td>...</td>\n",
       "      <td>...</td>\n",
       "      <td>...</td>\n",
       "      <td>...</td>\n",
       "      <td>...</td>\n",
       "      <td>...</td>\n",
       "      <td>...</td>\n",
       "      <td>...</td>\n",
       "    </tr>\n",
       "    <tr>\n",
       "      <th>2049</th>\n",
       "      <td>2051</td>\n",
       "      <td>Oshare Majo Love and Berry: DS Collection</td>\n",
       "      <td>DS</td>\n",
       "      <td>2006</td>\n",
       "      <td>Misc</td>\n",
       "      <td>Sega</td>\n",
       "      <td>0.00</td>\n",
       "      <td>0.00</td>\n",
       "      <td>1.01</td>\n",
       "      <td>0.00</td>\n",
       "      <td>1.01</td>\n",
       "      <td>16</td>\n",
       "      <td>1.01</td>\n",
       "    </tr>\n",
       "    <tr>\n",
       "      <th>2050</th>\n",
       "      <td>2052</td>\n",
       "      <td>Monster Rancher</td>\n",
       "      <td>PS</td>\n",
       "      <td>1997</td>\n",
       "      <td>Simulation</td>\n",
       "      <td>Tecmo Koei</td>\n",
       "      <td>0.12</td>\n",
       "      <td>0.08</td>\n",
       "      <td>0.74</td>\n",
       "      <td>0.07</td>\n",
       "      <td>1.01</td>\n",
       "      <td>25</td>\n",
       "      <td>0.89</td>\n",
       "    </tr>\n",
       "    <tr>\n",
       "      <th>2051</th>\n",
       "      <td>2053</td>\n",
       "      <td>The LEGO Movie Videogame</td>\n",
       "      <td>PS3</td>\n",
       "      <td>2014</td>\n",
       "      <td>Action</td>\n",
       "      <td>Warner Bros. Interactive Entertainment</td>\n",
       "      <td>0.33</td>\n",
       "      <td>0.48</td>\n",
       "      <td>0.02</td>\n",
       "      <td>0.18</td>\n",
       "      <td>1.01</td>\n",
       "      <td>8</td>\n",
       "      <td>0.68</td>\n",
       "    </tr>\n",
       "    <tr>\n",
       "      <th>2052</th>\n",
       "      <td>2054</td>\n",
       "      <td>DiRT 2</td>\n",
       "      <td>PS3</td>\n",
       "      <td>2009</td>\n",
       "      <td>Racing</td>\n",
       "      <td>Codemasters</td>\n",
       "      <td>0.27</td>\n",
       "      <td>0.53</td>\n",
       "      <td>0.00</td>\n",
       "      <td>0.20</td>\n",
       "      <td>1.01</td>\n",
       "      <td>13</td>\n",
       "      <td>0.73</td>\n",
       "    </tr>\n",
       "    <tr>\n",
       "      <th>2053</th>\n",
       "      <td>2055</td>\n",
       "      <td>Rayman Legends</td>\n",
       "      <td>PS4</td>\n",
       "      <td>2014</td>\n",
       "      <td>Platform</td>\n",
       "      <td>Ubisoft</td>\n",
       "      <td>0.21</td>\n",
       "      <td>0.61</td>\n",
       "      <td>0.00</td>\n",
       "      <td>0.18</td>\n",
       "      <td>1.01</td>\n",
       "      <td>8</td>\n",
       "      <td>0.79</td>\n",
       "    </tr>\n",
       "  </tbody>\n",
       "</table>\n",
       "<p>2031 rows × 13 columns</p>\n",
       "</div>"
      ],
      "text/plain": [
       "      rank                                       name platform  year  \\\n",
       "0        1                                 Wii Sports      Wii  2006   \n",
       "1        2                          Super Mario Bros.      NES  1985   \n",
       "2        3                             Mario Kart Wii      Wii  2008   \n",
       "3        4                          Wii Sports Resort      Wii  2009   \n",
       "4        5                   Pokemon Red/Pokemon Blue       GB  1996   \n",
       "...    ...                                        ...      ...   ...   \n",
       "2049  2051  Oshare Majo Love and Berry: DS Collection       DS  2006   \n",
       "2050  2052                            Monster Rancher       PS  1997   \n",
       "2051  2053                   The LEGO Movie Videogame      PS3  2014   \n",
       "2052  2054                                     DiRT 2      PS3  2009   \n",
       "2053  2055                             Rayman Legends      PS4  2014   \n",
       "\n",
       "             genre                               publisher  na_sales  \\\n",
       "0           Sports                                Nintendo     41.49   \n",
       "1         Platform                                Nintendo     29.08   \n",
       "2           Racing                                Nintendo     15.85   \n",
       "3           Sports                                Nintendo     15.75   \n",
       "4     Role-Playing                                Nintendo     11.27   \n",
       "...            ...                                     ...       ...   \n",
       "2049          Misc                                    Sega      0.00   \n",
       "2050    Simulation                              Tecmo Koei      0.12   \n",
       "2051        Action  Warner Bros. Interactive Entertainment      0.33   \n",
       "2052        Racing                             Codemasters      0.27   \n",
       "2053      Platform                                 Ubisoft      0.21   \n",
       "\n",
       "      eu_sales  jp_sales  other_sales  global_sales  age  combined_sales  \n",
       "0        29.02      3.77         8.46         82.74   16           41.25  \n",
       "1         3.58      6.81         0.77         40.24   37           11.16  \n",
       "2        12.88      3.79         3.31         35.82   14           19.98  \n",
       "3        11.01      3.28         2.96         33.00   13           17.25  \n",
       "4         8.89     10.22         1.00         31.37   26           20.11  \n",
       "...        ...       ...          ...           ...  ...             ...  \n",
       "2049      0.00      1.01         0.00          1.01   16            1.01  \n",
       "2050      0.08      0.74         0.07          1.01   25            0.89  \n",
       "2051      0.48      0.02         0.18          1.01    8            0.68  \n",
       "2052      0.53      0.00         0.20          1.01   13            0.73  \n",
       "2053      0.61      0.00         0.18          1.01    8            0.79  \n",
       "\n",
       "[2031 rows x 13 columns]"
      ]
     },
     "execution_count": 74,
     "metadata": {},
     "output_type": "execute_result"
    }
   ],
   "source": [
    "games"
   ]
  },
  {
   "cell_type": "markdown",
   "id": "25c1c5e2",
   "metadata": {},
   "source": [
    "# Visualize Distributions"
   ]
  },
  {
   "cell_type": "code",
   "execution_count": 75,
   "id": "a3a37d3a",
   "metadata": {},
   "outputs": [
    {
     "data": {
      "text/plain": [
       "rank                int64\n",
       "name               object\n",
       "platform           object\n",
       "year                int64\n",
       "genre              object\n",
       "publisher          object\n",
       "na_sales          float64\n",
       "eu_sales          float64\n",
       "jp_sales          float64\n",
       "other_sales       float64\n",
       "global_sales      float64\n",
       "age                 int64\n",
       "combined_sales    float64\n",
       "dtype: object"
      ]
     },
     "execution_count": 75,
     "metadata": {},
     "output_type": "execute_result"
    }
   ],
   "source": [
    "games.dtypes"
   ]
  },
  {
   "cell_type": "markdown",
   "id": "490541c1",
   "metadata": {},
   "source": [
    "### Loop through the quantitative values and show the distribution of each on a separate subplot."
   ]
  },
  {
   "cell_type": "code",
   "execution_count": 80,
   "id": "fe26aa63",
   "metadata": {},
   "outputs": [
    {
     "data": {
      "image/png": "[encoded data removed]",
      "text/plain": [
       "<Figure size 1152x576 with 8 Axes>"
      ]
     },
     "metadata": {
      "needs_background": "light"
     },
     "output_type": "display_data"
    }
   ],
   "source": [
    "plt.figure(figsize=(16,8))\n",
    "\n",
    "for i, col in enumerate(quantitative_values[1:]):\n",
    "    plot_number = i + 1\n",
    "    plt.subplot(3,3,plot_number)\n",
    "    plt.title(col)\n",
    "    games[col].hist(bins = 30)\n",
    "    plt.grid(False)"
   ]
  },
  {
   "cell_type": "markdown",
   "id": "d1eb673f",
   "metadata": {},
   "source": [
    "# Takeaways\n",
    "* 'year' seems to be the only feature that is normaly(ish) distributed.\n",
    "* All other features are right skewed."
   ]
  },
  {
   "cell_type": "markdown",
   "id": "cd4341bf",
   "metadata": {},
   "source": [
    "### Loop through the qualitative values and show the distribution of each on a separate subplot."
   ]
  },
  {
   "cell_type": "code",
   "execution_count": 49,
   "id": "ee195d8a",
   "metadata": {},
   "outputs": [
    {
     "data": {
      "image/png": "[encoded data removed]",
      "text/plain": [
       "<Figure size 2592x1152 with 3 Axes>"
      ]
     },
     "metadata": {
      "needs_background": "light"
     },
     "output_type": "display_data"
    }
   ],
   "source": [
    "plt.figure(figsize=(36,16))\n",
    "\n",
    "for i, col in enumerate(qualitative_values[1:]):\n",
    "    plot_number = i + 1\n",
    "    plt.subplot(3,1,plot_number)\n",
    "    plt.title(col)\n",
    "    games[col].hist(bins = 30, align='mid')\n",
    "    plt.xticks(rotation=45)\n",
    "    plt.grid(False)\n",
    "    plt.tight_layout()"
   ]
  },
  {
   "cell_type": "markdown",
   "id": "9618ce74",
   "metadata": {},
   "source": [
    "# Takeaways\n",
    "* The PS2 is the highest selling plastform.\n",
    "* Nintendo created the most game consoles.\n",
    "* Out of the Nintendo consoles the Wii sold the most units.\n",
    "* Action and sports games are two of the most popular genres.\n",
    "* My favorite genre, Role-Playing, is the fourth most popular genre.\n",
    "* Puzzle, simulation, adventure, and strategy are the least popular genres.\n",
    "* Nintendo and Microsoft Game Studios produced the most amount of games."
   ]
  },
  {
   "cell_type": "code",
   "execution_count": 81,
   "id": "6580754b",
   "metadata": {},
   "outputs": [
    {
     "data": {
      "image/png": "[encoded data removed]",
      "text/plain": [
       "<Figure size 576x288 with 1 Axes>"
      ]
     },
     "metadata": {
      "needs_background": "light"
     },
     "output_type": "display_data"
    }
   ],
   "source": [
    "plt.figure(figsize=(8,4))\n",
    "\n",
    "# Create boxplots for all quantitative values.\n",
    "sns.boxplot(data=games.drop(columns=['year','rank']))\n",
    "plt.show()"
   ]
  },
  {
   "cell_type": "markdown",
   "id": "6eff9fd0",
   "metadata": {},
   "source": [
    "# Takeaways\n",
    "* All columns have many outliers. I'm not sure what to do with them at this point.\n",
    "* I'll leave them in for now and see if they affect my model."
   ]
  },
  {
   "cell_type": "markdown",
   "id": "ed6554c2",
   "metadata": {},
   "source": [
    "# Split the data"
   ]
  },
  {
   "cell_type": "code",
   "execution_count": 82,
   "id": "46d34e7f",
   "metadata": {},
   "outputs": [
    {
     "name": "stdout",
     "output_type": "stream",
     "text": [
      "train observations:  1136\n",
      "validate observations:  488\n",
      "test observations:  407\n"
     ]
    }
   ],
   "source": [
    "# split test off, 20% of original df size. \n",
    "train_validate, test = train_test_split(games, test_size=.2, \n",
    "                                        random_state=123)\n",
    "\n",
    "# split validate off, 30% of what remains (24% of original df size)\n",
    "# thus train will be 56% of original df size. \n",
    "train, validate = train_test_split(train_validate, test_size=.3, \n",
    "                                   random_state=123)\n",
    "\n",
    "print(\"train observations: \", train.shape[0])\n",
    "print(\"validate observations: \", validate.shape[0])\n",
    "print(\"test observations: \", test.shape[0])"
   ]
  },
  {
   "cell_type": "code",
   "execution_count": 83,
   "id": "29f2d6c5",
   "metadata": {},
   "outputs": [
    {
     "data": {
      "text/plain": [
       "(1136, 13)"
      ]
     },
     "execution_count": 83,
     "metadata": {},
     "output_type": "execute_result"
    }
   ],
   "source": [
    "train.shape"
   ]
  },
  {
   "cell_type": "code",
   "execution_count": 84,
   "id": "9fc0e1df",
   "metadata": {},
   "outputs": [
    {
     "name": "stdout",
     "output_type": "stream",
     "text": [
      "<class 'pandas.core.frame.DataFrame'>\n",
      "Int64Index: 488 entries, 1428 to 2007\n",
      "Data columns (total 13 columns):\n",
      " #   Column          Non-Null Count  Dtype  \n",
      "---  ------          --------------  -----  \n",
      " 0   rank            488 non-null    int64  \n",
      " 1   name            488 non-null    object \n",
      " 2   platform        488 non-null    object \n",
      " 3   year            488 non-null    int64  \n",
      " 4   genre           488 non-null    object \n",
      " 5   publisher       488 non-null    object \n",
      " 6   na_sales        488 non-null    float64\n",
      " 7   eu_sales        488 non-null    float64\n",
      " 8   jp_sales        488 non-null    float64\n",
      " 9   other_sales     488 non-null    float64\n",
      " 10  global_sales    488 non-null    float64\n",
      " 11  age             488 non-null    int64  \n",
      " 12  combined_sales  488 non-null    float64\n",
      "dtypes: float64(6), int64(3), object(4)\n",
      "memory usage: 53.4+ KB\n"
     ]
    }
   ],
   "source": [
    "validate.info()"
   ]
  },
  {
   "cell_type": "code",
   "execution_count": 85,
   "id": "04480e84",
   "metadata": {},
   "outputs": [
    {
     "name": "stdout",
     "output_type": "stream",
     "text": [
      "<class 'pandas.core.frame.DataFrame'>\n",
      "Int64Index: 407 entries, 1733 to 1779\n",
      "Data columns (total 13 columns):\n",
      " #   Column          Non-Null Count  Dtype  \n",
      "---  ------          --------------  -----  \n",
      " 0   rank            407 non-null    int64  \n",
      " 1   name            407 non-null    object \n",
      " 2   platform        407 non-null    object \n",
      " 3   year            407 non-null    int64  \n",
      " 4   genre           407 non-null    object \n",
      " 5   publisher       407 non-null    object \n",
      " 6   na_sales        407 non-null    float64\n",
      " 7   eu_sales        407 non-null    float64\n",
      " 8   jp_sales        407 non-null    float64\n",
      " 9   other_sales     407 non-null    float64\n",
      " 10  global_sales    407 non-null    float64\n",
      " 11  age             407 non-null    int64  \n",
      " 12  combined_sales  407 non-null    float64\n",
      "dtypes: float64(6), int64(3), object(4)\n",
      "memory usage: 44.5+ KB\n"
     ]
    }
   ],
   "source": [
    "test.info()"
   ]
  },
  {
   "cell_type": "code",
   "execution_count": 86,
   "id": "24206882",
   "metadata": {},
   "outputs": [
    {
     "data": {
      "text/html": [
       "<div>\n",
       "<style scoped>\n",
       "    .dataframe tbody tr th:only-of-type {\n",
       "        vertical-align: middle;\n",
       "    }\n",
       "\n",
       "    .dataframe tbody tr th {\n",
       "        vertical-align: top;\n",
       "    }\n",
       "\n",
       "    .dataframe thead th {\n",
       "        text-align: right;\n",
       "    }\n",
       "</style>\n",
       "<table border=\"1\" class=\"dataframe\">\n",
       "  <thead>\n",
       "    <tr style=\"text-align: right;\">\n",
       "      <th></th>\n",
       "      <th>rank</th>\n",
       "      <th>name</th>\n",
       "      <th>platform</th>\n",
       "      <th>year</th>\n",
       "      <th>genre</th>\n",
       "      <th>publisher</th>\n",
       "      <th>na_sales</th>\n",
       "      <th>eu_sales</th>\n",
       "      <th>jp_sales</th>\n",
       "      <th>other_sales</th>\n",
       "      <th>global_sales</th>\n",
       "      <th>age</th>\n",
       "      <th>combined_sales</th>\n",
       "    </tr>\n",
       "  </thead>\n",
       "  <tbody>\n",
       "    <tr>\n",
       "      <th>2030</th>\n",
       "      <td>2032</td>\n",
       "      <td>Shrek 2</td>\n",
       "      <td>GC</td>\n",
       "      <td>2004</td>\n",
       "      <td>Platform</td>\n",
       "      <td>Activision</td>\n",
       "      <td>0.73</td>\n",
       "      <td>0.26</td>\n",
       "      <td>0.01</td>\n",
       "      <td>0.03</td>\n",
       "      <td>1.02</td>\n",
       "      <td>18</td>\n",
       "      <td>0.30</td>\n",
       "    </tr>\n",
       "    <tr>\n",
       "      <th>1329</th>\n",
       "      <td>1331</td>\n",
       "      <td>Dragon Quest Monsters: Joker 2</td>\n",
       "      <td>DS</td>\n",
       "      <td>2010</td>\n",
       "      <td>Role-Playing</td>\n",
       "      <td>Square Enix</td>\n",
       "      <td>0.11</td>\n",
       "      <td>0.08</td>\n",
       "      <td>1.24</td>\n",
       "      <td>0.02</td>\n",
       "      <td>1.45</td>\n",
       "      <td>12</td>\n",
       "      <td>1.34</td>\n",
       "    </tr>\n",
       "    <tr>\n",
       "      <th>1670</th>\n",
       "      <td>1672</td>\n",
       "      <td>Just Dance 2016</td>\n",
       "      <td>Wii</td>\n",
       "      <td>2015</td>\n",
       "      <td>Misc</td>\n",
       "      <td>Ubisoft</td>\n",
       "      <td>0.52</td>\n",
       "      <td>0.59</td>\n",
       "      <td>0.00</td>\n",
       "      <td>0.10</td>\n",
       "      <td>1.20</td>\n",
       "      <td>7</td>\n",
       "      <td>0.69</td>\n",
       "    </tr>\n",
       "    <tr>\n",
       "      <th>961</th>\n",
       "      <td>963</td>\n",
       "      <td>Sly 2: Band of Thieves</td>\n",
       "      <td>PS2</td>\n",
       "      <td>2004</td>\n",
       "      <td>Platform</td>\n",
       "      <td>Sony Computer Entertainment</td>\n",
       "      <td>0.88</td>\n",
       "      <td>0.69</td>\n",
       "      <td>0.00</td>\n",
       "      <td>0.23</td>\n",
       "      <td>1.81</td>\n",
       "      <td>18</td>\n",
       "      <td>0.92</td>\n",
       "    </tr>\n",
       "    <tr>\n",
       "      <th>1228</th>\n",
       "      <td>1230</td>\n",
       "      <td>Dead Space 2</td>\n",
       "      <td>X360</td>\n",
       "      <td>2011</td>\n",
       "      <td>Shooter</td>\n",
       "      <td>Electronic Arts</td>\n",
       "      <td>0.94</td>\n",
       "      <td>0.45</td>\n",
       "      <td>0.00</td>\n",
       "      <td>0.13</td>\n",
       "      <td>1.52</td>\n",
       "      <td>11</td>\n",
       "      <td>0.58</td>\n",
       "    </tr>\n",
       "    <tr>\n",
       "      <th>...</th>\n",
       "      <td>...</td>\n",
       "      <td>...</td>\n",
       "      <td>...</td>\n",
       "      <td>...</td>\n",
       "      <td>...</td>\n",
       "      <td>...</td>\n",
       "      <td>...</td>\n",
       "      <td>...</td>\n",
       "      <td>...</td>\n",
       "      <td>...</td>\n",
       "      <td>...</td>\n",
       "      <td>...</td>\n",
       "      <td>...</td>\n",
       "    </tr>\n",
       "    <tr>\n",
       "      <th>725</th>\n",
       "      <td>727</td>\n",
       "      <td>New Super Luigi U</td>\n",
       "      <td>WiiU</td>\n",
       "      <td>2013</td>\n",
       "      <td>Platform</td>\n",
       "      <td>Nintendo</td>\n",
       "      <td>1.27</td>\n",
       "      <td>0.62</td>\n",
       "      <td>0.18</td>\n",
       "      <td>0.16</td>\n",
       "      <td>2.22</td>\n",
       "      <td>9</td>\n",
       "      <td>0.96</td>\n",
       "    </tr>\n",
       "    <tr>\n",
       "      <th>1330</th>\n",
       "      <td>1332</td>\n",
       "      <td>Tony Hawk's American Wasteland (Weekly america...</td>\n",
       "      <td>PS2</td>\n",
       "      <td>2005</td>\n",
       "      <td>Sports</td>\n",
       "      <td>Activision</td>\n",
       "      <td>1.38</td>\n",
       "      <td>0.05</td>\n",
       "      <td>0.00</td>\n",
       "      <td>0.02</td>\n",
       "      <td>1.45</td>\n",
       "      <td>17</td>\n",
       "      <td>0.07</td>\n",
       "    </tr>\n",
       "    <tr>\n",
       "      <th>1961</th>\n",
       "      <td>1963</td>\n",
       "      <td>Seek and Destroy</td>\n",
       "      <td>PS2</td>\n",
       "      <td>2002</td>\n",
       "      <td>Racing</td>\n",
       "      <td>Play It</td>\n",
       "      <td>0.52</td>\n",
       "      <td>0.40</td>\n",
       "      <td>0.00</td>\n",
       "      <td>0.14</td>\n",
       "      <td>1.06</td>\n",
       "      <td>20</td>\n",
       "      <td>0.54</td>\n",
       "    </tr>\n",
       "    <tr>\n",
       "      <th>909</th>\n",
       "      <td>911</td>\n",
       "      <td>Need for Speed Rivals</td>\n",
       "      <td>PS4</td>\n",
       "      <td>2013</td>\n",
       "      <td>Racing</td>\n",
       "      <td>Electronic Arts</td>\n",
       "      <td>0.73</td>\n",
       "      <td>0.91</td>\n",
       "      <td>0.03</td>\n",
       "      <td>0.22</td>\n",
       "      <td>1.89</td>\n",
       "      <td>9</td>\n",
       "      <td>1.16</td>\n",
       "    </tr>\n",
       "    <tr>\n",
       "      <th>1222</th>\n",
       "      <td>1224</td>\n",
       "      <td>NFL GameDay 99</td>\n",
       "      <td>PS</td>\n",
       "      <td>1998</td>\n",
       "      <td>Sports</td>\n",
       "      <td>989 Studios</td>\n",
       "      <td>1.44</td>\n",
       "      <td>0.05</td>\n",
       "      <td>0.00</td>\n",
       "      <td>0.04</td>\n",
       "      <td>1.53</td>\n",
       "      <td>24</td>\n",
       "      <td>0.09</td>\n",
       "    </tr>\n",
       "  </tbody>\n",
       "</table>\n",
       "<p>1136 rows × 13 columns</p>\n",
       "</div>"
      ],
      "text/plain": [
       "      rank                                               name platform  year  \\\n",
       "2030  2032                                            Shrek 2       GC  2004   \n",
       "1329  1331                     Dragon Quest Monsters: Joker 2       DS  2010   \n",
       "1670  1672                                    Just Dance 2016      Wii  2015   \n",
       "961    963                             Sly 2: Band of Thieves      PS2  2004   \n",
       "1228  1230                                       Dead Space 2     X360  2011   \n",
       "...    ...                                                ...      ...   ...   \n",
       "725    727                                  New Super Luigi U     WiiU  2013   \n",
       "1330  1332  Tony Hawk's American Wasteland (Weekly america...      PS2  2005   \n",
       "1961  1963                                   Seek and Destroy      PS2  2002   \n",
       "909    911                              Need for Speed Rivals      PS4  2013   \n",
       "1222  1224                                     NFL GameDay 99       PS  1998   \n",
       "\n",
       "             genre                    publisher  na_sales  eu_sales  jp_sales  \\\n",
       "2030      Platform                   Activision      0.73      0.26      0.01   \n",
       "1329  Role-Playing                  Square Enix      0.11      0.08      1.24   \n",
       "1670          Misc                      Ubisoft      0.52      0.59      0.00   \n",
       "961       Platform  Sony Computer Entertainment      0.88      0.69      0.00   \n",
       "1228       Shooter              Electronic Arts      0.94      0.45      0.00   \n",
       "...            ...                          ...       ...       ...       ...   \n",
       "725       Platform                     Nintendo      1.27      0.62      0.18   \n",
       "1330        Sports                   Activision      1.38      0.05      0.00   \n",
       "1961        Racing                      Play It      0.52      0.40      0.00   \n",
       "909         Racing              Electronic Arts      0.73      0.91      0.03   \n",
       "1222        Sports                  989 Studios      1.44      0.05      0.00   \n",
       "\n",
       "      other_sales  global_sales  age  combined_sales  \n",
       "2030         0.03          1.02   18            0.30  \n",
       "1329         0.02          1.45   12            1.34  \n",
       "1670         0.10          1.20    7            0.69  \n",
       "961          0.23          1.81   18            0.92  \n",
       "1228         0.13          1.52   11            0.58  \n",
       "...           ...           ...  ...             ...  \n",
       "725          0.16          2.22    9            0.96  \n",
       "1330         0.02          1.45   17            0.07  \n",
       "1961         0.14          1.06   20            0.54  \n",
       "909          0.22          1.89    9            1.16  \n",
       "1222         0.04          1.53   24            0.09  \n",
       "\n",
       "[1136 rows x 13 columns]"
      ]
     },
     "execution_count": 86,
     "metadata": {},
     "output_type": "execute_result"
    }
   ],
   "source": [
    "train"
   ]
  },
  {
   "cell_type": "markdown",
   "id": "7058f0be",
   "metadata": {},
   "source": [
    "# Target Variable: 'na_sales'\n",
    "#### Separate the target variable from the independent variables and drop other unwanted columns."
   ]
  },
  {
   "cell_type": "code",
   "execution_count": 87,
   "id": "29ad0117",
   "metadata": {},
   "outputs": [],
   "source": [
    "# Create a dataframe called 'X_train' that drops 'na_sales'(target), 'rank', 'name', and 'global_sales'.\n",
    "X_train = train.drop(columns=['na_sales','rank','name','global_sales','year'])\n",
    "X_validate = validate.drop(columns=['na_sales','rank','name','global_sales','year'])\n",
    "X_test = test.drop(columns=['na_sales','rank','name','global_sales','year'])"
   ]
  },
  {
   "cell_type": "code",
   "execution_count": 91,
   "id": "19dba490",
   "metadata": {},
   "outputs": [],
   "source": [
    "# Create variables that hold values for the target.\n",
    "y_train = train.na_sales\n",
    "y_validate = validate.na_sales\n",
    "y_test = test.na_sales"
   ]
  },
  {
   "cell_type": "code",
   "execution_count": 92,
   "id": "0f3471bb",
   "metadata": {},
   "outputs": [
    {
     "data": {
      "text/plain": [
       "(1136, 488, 407)"
      ]
     },
     "execution_count": 92,
     "metadata": {},
     "output_type": "execute_result"
    }
   ],
   "source": [
    "len(y_train), len(y_validate), len(y_test)"
   ]
  },
  {
   "cell_type": "markdown",
   "id": "dabd9f39",
   "metadata": {},
   "source": [
    "## Scale data using Min-Max Scaler"
   ]
  },
  {
   "cell_type": "code",
   "execution_count": 95,
   "id": "f369ff55",
   "metadata": {},
   "outputs": [],
   "source": [
    "# Create two separate dataframes. One for quantitative values and the other for qualitative values.\n",
    "quantitative_values = X_train.select_dtypes(exclude='object').columns\n",
    "qualitative_values = X_train.select_dtypes(include='object').columns"
   ]
  },
  {
   "cell_type": "code",
   "execution_count": 98,
   "id": "8071bdd3",
   "metadata": {},
   "outputs": [
    {
     "data": {
      "text/plain": [
       "(Index(['eu_sales', 'jp_sales', 'other_sales', 'age', 'combined_sales'], dtype='object'),\n",
       " Index(['platform', 'genre', 'publisher'], dtype='object'))"
      ]
     },
     "execution_count": 98,
     "metadata": {},
     "output_type": "execute_result"
    }
   ],
   "source": [
    "quantitative_values ,qualitative_values"
   ]
  },
  {
   "cell_type": "code",
   "execution_count": 101,
   "id": "b36e0863",
   "metadata": {},
   "outputs": [
    {
     "data": {
      "text/html": [
       "<div>\n",
       "<style scoped>\n",
       "    .dataframe tbody tr th:only-of-type {\n",
       "        vertical-align: middle;\n",
       "    }\n",
       "\n",
       "    .dataframe tbody tr th {\n",
       "        vertical-align: top;\n",
       "    }\n",
       "\n",
       "    .dataframe thead th {\n",
       "        text-align: right;\n",
       "    }\n",
       "</style>\n",
       "<table border=\"1\" class=\"dataframe\">\n",
       "  <thead>\n",
       "    <tr style=\"text-align: right;\">\n",
       "      <th></th>\n",
       "      <th>platform</th>\n",
       "      <th>genre</th>\n",
       "      <th>publisher</th>\n",
       "    </tr>\n",
       "  </thead>\n",
       "  <tbody>\n",
       "    <tr>\n",
       "      <th>2030</th>\n",
       "      <td>GC</td>\n",
       "      <td>Platform</td>\n",
       "      <td>Activision</td>\n",
       "    </tr>\n",
       "    <tr>\n",
       "      <th>1329</th>\n",
       "      <td>DS</td>\n",
       "      <td>Role-Playing</td>\n",
       "      <td>Square Enix</td>\n",
       "    </tr>\n",
       "    <tr>\n",
       "      <th>1670</th>\n",
       "      <td>Wii</td>\n",
       "      <td>Misc</td>\n",
       "      <td>Ubisoft</td>\n",
       "    </tr>\n",
       "    <tr>\n",
       "      <th>961</th>\n",
       "      <td>PS2</td>\n",
       "      <td>Platform</td>\n",
       "      <td>Sony Computer Entertainment</td>\n",
       "    </tr>\n",
       "    <tr>\n",
       "      <th>1228</th>\n",
       "      <td>X360</td>\n",
       "      <td>Shooter</td>\n",
       "      <td>Electronic Arts</td>\n",
       "    </tr>\n",
       "    <tr>\n",
       "      <th>...</th>\n",
       "      <td>...</td>\n",
       "      <td>...</td>\n",
       "      <td>...</td>\n",
       "    </tr>\n",
       "    <tr>\n",
       "      <th>725</th>\n",
       "      <td>WiiU</td>\n",
       "      <td>Platform</td>\n",
       "      <td>Nintendo</td>\n",
       "    </tr>\n",
       "    <tr>\n",
       "      <th>1330</th>\n",
       "      <td>PS2</td>\n",
       "      <td>Sports</td>\n",
       "      <td>Activision</td>\n",
       "    </tr>\n",
       "    <tr>\n",
       "      <th>1961</th>\n",
       "      <td>PS2</td>\n",
       "      <td>Racing</td>\n",
       "      <td>Play It</td>\n",
       "    </tr>\n",
       "    <tr>\n",
       "      <th>909</th>\n",
       "      <td>PS4</td>\n",
       "      <td>Racing</td>\n",
       "      <td>Electronic Arts</td>\n",
       "    </tr>\n",
       "    <tr>\n",
       "      <th>1222</th>\n",
       "      <td>PS</td>\n",
       "      <td>Sports</td>\n",
       "      <td>989 Studios</td>\n",
       "    </tr>\n",
       "  </tbody>\n",
       "</table>\n",
       "<p>1136 rows × 3 columns</p>\n",
       "</div>"
      ],
      "text/plain": [
       "     platform         genre                    publisher\n",
       "2030       GC      Platform                   Activision\n",
       "1329       DS  Role-Playing                  Square Enix\n",
       "1670      Wii          Misc                      Ubisoft\n",
       "961       PS2      Platform  Sony Computer Entertainment\n",
       "1228     X360       Shooter              Electronic Arts\n",
       "...       ...           ...                          ...\n",
       "725      WiiU      Platform                     Nintendo\n",
       "1330      PS2        Sports                   Activision\n",
       "1961      PS2        Racing                      Play It\n",
       "909       PS4        Racing              Electronic Arts\n",
       "1222       PS        Sports                  989 Studios\n",
       "\n",
       "[1136 rows x 3 columns]"
      ]
     },
     "execution_count": 101,
     "metadata": {},
     "output_type": "execute_result"
    }
   ],
   "source": [
    "X_train[qualitative_values]"
   ]
  },
  {
   "cell_type": "code",
   "execution_count": 100,
   "id": "007d3837",
   "metadata": {},
   "outputs": [
    {
     "data": {
      "text/html": [
       "<div>\n",
       "<style scoped>\n",
       "    .dataframe tbody tr th:only-of-type {\n",
       "        vertical-align: middle;\n",
       "    }\n",
       "\n",
       "    .dataframe tbody tr th {\n",
       "        vertical-align: top;\n",
       "    }\n",
       "\n",
       "    .dataframe thead th {\n",
       "        text-align: right;\n",
       "    }\n",
       "</style>\n",
       "<table border=\"1\" class=\"dataframe\">\n",
       "  <thead>\n",
       "    <tr style=\"text-align: right;\">\n",
       "      <th></th>\n",
       "      <th>eu_sales</th>\n",
       "      <th>jp_sales</th>\n",
       "      <th>other_sales</th>\n",
       "      <th>age</th>\n",
       "      <th>combined_sales</th>\n",
       "    </tr>\n",
       "  </thead>\n",
       "  <tbody>\n",
       "    <tr>\n",
       "      <th>2030</th>\n",
       "      <td>0.26</td>\n",
       "      <td>0.01</td>\n",
       "      <td>0.03</td>\n",
       "      <td>18</td>\n",
       "      <td>0.30</td>\n",
       "    </tr>\n",
       "    <tr>\n",
       "      <th>1329</th>\n",
       "      <td>0.08</td>\n",
       "      <td>1.24</td>\n",
       "      <td>0.02</td>\n",
       "      <td>12</td>\n",
       "      <td>1.34</td>\n",
       "    </tr>\n",
       "    <tr>\n",
       "      <th>1670</th>\n",
       "      <td>0.59</td>\n",
       "      <td>0.00</td>\n",
       "      <td>0.10</td>\n",
       "      <td>7</td>\n",
       "      <td>0.69</td>\n",
       "    </tr>\n",
       "    <tr>\n",
       "      <th>961</th>\n",
       "      <td>0.69</td>\n",
       "      <td>0.00</td>\n",
       "      <td>0.23</td>\n",
       "      <td>18</td>\n",
       "      <td>0.92</td>\n",
       "    </tr>\n",
       "    <tr>\n",
       "      <th>1228</th>\n",
       "      <td>0.45</td>\n",
       "      <td>0.00</td>\n",
       "      <td>0.13</td>\n",
       "      <td>11</td>\n",
       "      <td>0.58</td>\n",
       "    </tr>\n",
       "    <tr>\n",
       "      <th>...</th>\n",
       "      <td>...</td>\n",
       "      <td>...</td>\n",
       "      <td>...</td>\n",
       "      <td>...</td>\n",
       "      <td>...</td>\n",
       "    </tr>\n",
       "    <tr>\n",
       "      <th>725</th>\n",
       "      <td>0.62</td>\n",
       "      <td>0.18</td>\n",
       "      <td>0.16</td>\n",
       "      <td>9</td>\n",
       "      <td>0.96</td>\n",
       "    </tr>\n",
       "    <tr>\n",
       "      <th>1330</th>\n",
       "      <td>0.05</td>\n",
       "      <td>0.00</td>\n",
       "      <td>0.02</td>\n",
       "      <td>17</td>\n",
       "      <td>0.07</td>\n",
       "    </tr>\n",
       "    <tr>\n",
       "      <th>1961</th>\n",
       "      <td>0.40</td>\n",
       "      <td>0.00</td>\n",
       "      <td>0.14</td>\n",
       "      <td>20</td>\n",
       "      <td>0.54</td>\n",
       "    </tr>\n",
       "    <tr>\n",
       "      <th>909</th>\n",
       "      <td>0.91</td>\n",
       "      <td>0.03</td>\n",
       "      <td>0.22</td>\n",
       "      <td>9</td>\n",
       "      <td>1.16</td>\n",
       "    </tr>\n",
       "    <tr>\n",
       "      <th>1222</th>\n",
       "      <td>0.05</td>\n",
       "      <td>0.00</td>\n",
       "      <td>0.04</td>\n",
       "      <td>24</td>\n",
       "      <td>0.09</td>\n",
       "    </tr>\n",
       "  </tbody>\n",
       "</table>\n",
       "<p>1136 rows × 5 columns</p>\n",
       "</div>"
      ],
      "text/plain": [
       "      eu_sales  jp_sales  other_sales  age  combined_sales\n",
       "2030      0.26      0.01         0.03   18            0.30\n",
       "1329      0.08      1.24         0.02   12            1.34\n",
       "1670      0.59      0.00         0.10    7            0.69\n",
       "961       0.69      0.00         0.23   18            0.92\n",
       "1228      0.45      0.00         0.13   11            0.58\n",
       "...        ...       ...          ...  ...             ...\n",
       "725       0.62      0.18         0.16    9            0.96\n",
       "1330      0.05      0.00         0.02   17            0.07\n",
       "1961      0.40      0.00         0.14   20            0.54\n",
       "909       0.91      0.03         0.22    9            1.16\n",
       "1222      0.05      0.00         0.04   24            0.09\n",
       "\n",
       "[1136 rows x 5 columns]"
      ]
     },
     "execution_count": 100,
     "metadata": {},
     "output_type": "execute_result"
    }
   ],
   "source": [
    "X_train[quantitative_values]"
   ]
  },
  {
   "cell_type": "code",
   "execution_count": 108,
   "id": "24963b00",
   "metadata": {},
   "outputs": [],
   "source": [
    "scaler = sklearn.preprocessing.MinMaxScaler()\n",
    "# We will only call .fit with the training data,\n",
    "# but we use .transform to apply the scaling to all the data splits.\n",
    "scaler.fit(X_train[quantitative_values])\n",
    "\n",
    "X_train_scaled = scaler.transform(X_train[quantitative_values])\n",
    "X_validate_scaled = scaler.transform(X_validate[quantitative_values])\n",
    "X_test_scaled = scaler.transform(X_test[quantitative_values])"
   ]
  },
  {
   "cell_type": "code",
   "execution_count": 124,
   "id": "b3920707",
   "metadata": {},
   "outputs": [],
   "source": [
    "pd.DataFrame(X_train_scaled, columns = [quantitative_values])"
   ]
  },
  {
   "cell_type": "code",
   "execution_count": 126,
   "id": "8ecf21d6",
   "metadata": {},
   "outputs": [],
   "source": [
    "X_train[qualitative_values]"
   ]
  },
  {
   "cell_type": "code",
   "execution_count": null,
   "id": "101c1f9b",
   "metadata": {},
   "outputs": [],
   "source": []
  }
 ],
 "metadata": {
  "kernelspec": {
   "display_name": "Python 3 (ipykernel)",
   "language": "python",
   "name": "python3"
  },
  "language_info": {
   "codemirror_mode": {
    "name": "ipython",
    "version": 3
   },
   "file_extension": ".py",
   "mimetype": "text/x-python",
   "name": "python",
   "nbconvert_exporter": "python",
   "pygments_lexer": "ipython3",
   "version": "3.8.8"
  }
 },
 "nbformat": 4,
 "nbformat_minor": 5
}
