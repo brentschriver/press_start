{
 "cells": [
  {
   "cell_type": "code",
   "execution_count": 15,
   "id": "3e159703",
   "metadata": {},
   "outputs": [],
   "source": [
    "import pandas as pd\n",
    "import numpy as np\n",
    "from matplotlib import pyplot as plt"
   ]
  },
  {
   "cell_type": "code",
   "execution_count": null,
   "id": "77e92886",
   "metadata": {},
   "outputs": [],
   "source": [
    "games = pd.read_csv('vgsales.csv')"
   ]
  },
  {
   "cell_type": "code",
   "execution_count": null,
   "id": "07925a22",
   "metadata": {},
   "outputs": [],
   "source": [
    "# Verify data was pulled in successfully.\n",
    "games"
   ]
  },
  {
   "cell_type": "code",
   "execution_count": null,
   "id": "b4f595f8",
   "metadata": {},
   "outputs": [],
   "source": [
    "# Check datatypes for the columns.\n",
    "games.info()"
   ]
  },
  {
   "cell_type": "code",
   "execution_count": null,
   "id": "8c5674c7",
   "metadata": {},
   "outputs": [],
   "source": [
    "games.Year.isnull().sum()"
   ]
  },
  {
   "cell_type": "markdown",
   "id": "a7909802",
   "metadata": {},
   "source": [
    "## Takeaways\n",
    "* The 'Year' column has missing values, so I will have to drop the missing values before converting to and integer datatype.\n",
    "* I will also drop missing values from all other columns as well."
   ]
  },
  {
   "cell_type": "code",
   "execution_count": null,
   "id": "459c49ae",
   "metadata": {},
   "outputs": [],
   "source": [
    "# Drop missing values.\n",
    "games.dropna(inplace=True)"
   ]
  },
  {
   "cell_type": "code",
   "execution_count": null,
   "id": "aa07fa37",
   "metadata": {},
   "outputs": [],
   "source": [
    "games.info()"
   ]
  },
  {
   "cell_type": "code",
   "execution_count": null,
   "id": "281ce698",
   "metadata": {},
   "outputs": [],
   "source": [
    "# Convert 'Year' column into integer datatype.\n",
    "games.Year = games.Year.astype(int)"
   ]
  },
  {
   "cell_type": "code",
   "execution_count": null,
   "id": "f2d24222",
   "metadata": {},
   "outputs": [],
   "source": [
    "# Verify change.\n",
    "games.info()"
   ]
  },
  {
   "cell_type": "code",
   "execution_count": null,
   "id": "8b98c103",
   "metadata": {},
   "outputs": [],
   "source": [
    "# Lowercase all columns.\n",
    "columns = [col.lower() for col in games.columns]\n",
    "games.columns = columns"
   ]
  },
  {
   "cell_type": "code",
   "execution_count": null,
   "id": "3499e775",
   "metadata": {},
   "outputs": [],
   "source": [
    "# Drop all observations where global sales are less than one million.\n",
    "games = games[games.global_sales > 1.0]"
   ]
  },
  {
   "cell_type": "code",
   "execution_count": null,
   "id": "4ab27c21",
   "metadata": {
    "scrolled": false
   },
   "outputs": [],
   "source": [
    "# Create a dataframe for the games that sold less than a million copies globally.\n",
    "low_sales = games[games.global_sales < 1.0]"
   ]
  },
  {
   "cell_type": "code",
   "execution_count": null,
   "id": "5fd5e924",
   "metadata": {},
   "outputs": [],
   "source": [
    "# Take a peek at the different platforms that produced a game/games that sold over one million globally.\n",
    "games.platform.value_counts()"
   ]
  },
  {
   "cell_type": "code",
   "execution_count": null,
   "id": "6d6bfff6",
   "metadata": {},
   "outputs": [],
   "source": [
    "games"
   ]
  },
  {
   "cell_type": "markdown",
   "id": "a68eee26",
   "metadata": {},
   "source": [
    "# Takeaways\n",
    "* I have the dataframe in a state where I am ready to begin Exploratory Data Analysis.\n",
    "* My target variable will be 'na_sales'.\n",
    "* I will have to drop 'global_sales' to prevent data leakage."
   ]
  },
  {
   "cell_type": "code",
   "execution_count": 2,
   "id": "1eb87381",
   "metadata": {},
   "outputs": [],
   "source": [
    "# Create a function that will acquire the data and prepare it for Exploratory Data Analysis\n",
    "def acquire_and_prep():\n",
    "    games = pd.read_csv('vgsales.csv')\n",
    "    # Drop missing values.\n",
    "    games.dropna(inplace=True)\n",
    "    # Convert 'Year' column into integer datatype.\n",
    "    games.Year = games.Year.astype(int)\n",
    "    # Lowercase all columns.\n",
    "    columns = [col.lower() for col in games.columns]\n",
    "    games.columns = columns\n",
    "    # Drop all observations where global sales are less than one million.\n",
    "    games = games[games.global_sales > 1.0]\n",
    "    return games"
   ]
  },
  {
   "cell_type": "code",
   "execution_count": 3,
   "id": "fd9a7cf7",
   "metadata": {},
   "outputs": [],
   "source": [
    "games = acquire_and_prep()"
   ]
  },
  {
   "cell_type": "code",
   "execution_count": 4,
   "id": "b57c9b9a",
   "metadata": {},
   "outputs": [
    {
     "data": {
      "text/html": [
       "<div>\n",
       "<style scoped>\n",
       "    .dataframe tbody tr th:only-of-type {\n",
       "        vertical-align: middle;\n",
       "    }\n",
       "\n",
       "    .dataframe tbody tr th {\n",
       "        vertical-align: top;\n",
       "    }\n",
       "\n",
       "    .dataframe thead th {\n",
       "        text-align: right;\n",
       "    }\n",
       "</style>\n",
       "<table border=\"1\" class=\"dataframe\">\n",
       "  <thead>\n",
       "    <tr style=\"text-align: right;\">\n",
       "      <th></th>\n",
       "      <th>rank</th>\n",
       "      <th>name</th>\n",
       "      <th>platform</th>\n",
       "      <th>year</th>\n",
       "      <th>genre</th>\n",
       "      <th>publisher</th>\n",
       "      <th>na_sales</th>\n",
       "      <th>eu_sales</th>\n",
       "      <th>jp_sales</th>\n",
       "      <th>other_sales</th>\n",
       "      <th>global_sales</th>\n",
       "    </tr>\n",
       "  </thead>\n",
       "  <tbody>\n",
       "    <tr>\n",
       "      <th>0</th>\n",
       "      <td>1</td>\n",
       "      <td>Wii Sports</td>\n",
       "      <td>Wii</td>\n",
       "      <td>2006</td>\n",
       "      <td>Sports</td>\n",
       "      <td>Nintendo</td>\n",
       "      <td>41.49</td>\n",
       "      <td>29.02</td>\n",
       "      <td>3.77</td>\n",
       "      <td>8.46</td>\n",
       "      <td>82.74</td>\n",
       "    </tr>\n",
       "    <tr>\n",
       "      <th>1</th>\n",
       "      <td>2</td>\n",
       "      <td>Super Mario Bros.</td>\n",
       "      <td>NES</td>\n",
       "      <td>1985</td>\n",
       "      <td>Platform</td>\n",
       "      <td>Nintendo</td>\n",
       "      <td>29.08</td>\n",
       "      <td>3.58</td>\n",
       "      <td>6.81</td>\n",
       "      <td>0.77</td>\n",
       "      <td>40.24</td>\n",
       "    </tr>\n",
       "    <tr>\n",
       "      <th>2</th>\n",
       "      <td>3</td>\n",
       "      <td>Mario Kart Wii</td>\n",
       "      <td>Wii</td>\n",
       "      <td>2008</td>\n",
       "      <td>Racing</td>\n",
       "      <td>Nintendo</td>\n",
       "      <td>15.85</td>\n",
       "      <td>12.88</td>\n",
       "      <td>3.79</td>\n",
       "      <td>3.31</td>\n",
       "      <td>35.82</td>\n",
       "    </tr>\n",
       "    <tr>\n",
       "      <th>3</th>\n",
       "      <td>4</td>\n",
       "      <td>Wii Sports Resort</td>\n",
       "      <td>Wii</td>\n",
       "      <td>2009</td>\n",
       "      <td>Sports</td>\n",
       "      <td>Nintendo</td>\n",
       "      <td>15.75</td>\n",
       "      <td>11.01</td>\n",
       "      <td>3.28</td>\n",
       "      <td>2.96</td>\n",
       "      <td>33.00</td>\n",
       "    </tr>\n",
       "    <tr>\n",
       "      <th>4</th>\n",
       "      <td>5</td>\n",
       "      <td>Pokemon Red/Pokemon Blue</td>\n",
       "      <td>GB</td>\n",
       "      <td>1996</td>\n",
       "      <td>Role-Playing</td>\n",
       "      <td>Nintendo</td>\n",
       "      <td>11.27</td>\n",
       "      <td>8.89</td>\n",
       "      <td>10.22</td>\n",
       "      <td>1.00</td>\n",
       "      <td>31.37</td>\n",
       "    </tr>\n",
       "    <tr>\n",
       "      <th>...</th>\n",
       "      <td>...</td>\n",
       "      <td>...</td>\n",
       "      <td>...</td>\n",
       "      <td>...</td>\n",
       "      <td>...</td>\n",
       "      <td>...</td>\n",
       "      <td>...</td>\n",
       "      <td>...</td>\n",
       "      <td>...</td>\n",
       "      <td>...</td>\n",
       "      <td>...</td>\n",
       "    </tr>\n",
       "    <tr>\n",
       "      <th>2049</th>\n",
       "      <td>2051</td>\n",
       "      <td>Oshare Majo Love and Berry: DS Collection</td>\n",
       "      <td>DS</td>\n",
       "      <td>2006</td>\n",
       "      <td>Misc</td>\n",
       "      <td>Sega</td>\n",
       "      <td>0.00</td>\n",
       "      <td>0.00</td>\n",
       "      <td>1.01</td>\n",
       "      <td>0.00</td>\n",
       "      <td>1.01</td>\n",
       "    </tr>\n",
       "    <tr>\n",
       "      <th>2050</th>\n",
       "      <td>2052</td>\n",
       "      <td>Monster Rancher</td>\n",
       "      <td>PS</td>\n",
       "      <td>1997</td>\n",
       "      <td>Simulation</td>\n",
       "      <td>Tecmo Koei</td>\n",
       "      <td>0.12</td>\n",
       "      <td>0.08</td>\n",
       "      <td>0.74</td>\n",
       "      <td>0.07</td>\n",
       "      <td>1.01</td>\n",
       "    </tr>\n",
       "    <tr>\n",
       "      <th>2051</th>\n",
       "      <td>2053</td>\n",
       "      <td>The LEGO Movie Videogame</td>\n",
       "      <td>PS3</td>\n",
       "      <td>2014</td>\n",
       "      <td>Action</td>\n",
       "      <td>Warner Bros. Interactive Entertainment</td>\n",
       "      <td>0.33</td>\n",
       "      <td>0.48</td>\n",
       "      <td>0.02</td>\n",
       "      <td>0.18</td>\n",
       "      <td>1.01</td>\n",
       "    </tr>\n",
       "    <tr>\n",
       "      <th>2052</th>\n",
       "      <td>2054</td>\n",
       "      <td>DiRT 2</td>\n",
       "      <td>PS3</td>\n",
       "      <td>2009</td>\n",
       "      <td>Racing</td>\n",
       "      <td>Codemasters</td>\n",
       "      <td>0.27</td>\n",
       "      <td>0.53</td>\n",
       "      <td>0.00</td>\n",
       "      <td>0.20</td>\n",
       "      <td>1.01</td>\n",
       "    </tr>\n",
       "    <tr>\n",
       "      <th>2053</th>\n",
       "      <td>2055</td>\n",
       "      <td>Rayman Legends</td>\n",
       "      <td>PS4</td>\n",
       "      <td>2014</td>\n",
       "      <td>Platform</td>\n",
       "      <td>Ubisoft</td>\n",
       "      <td>0.21</td>\n",
       "      <td>0.61</td>\n",
       "      <td>0.00</td>\n",
       "      <td>0.18</td>\n",
       "      <td>1.01</td>\n",
       "    </tr>\n",
       "  </tbody>\n",
       "</table>\n",
       "<p>2031 rows × 11 columns</p>\n",
       "</div>"
      ],
      "text/plain": [
       "      rank                                       name platform  year  \\\n",
       "0        1                                 Wii Sports      Wii  2006   \n",
       "1        2                          Super Mario Bros.      NES  1985   \n",
       "2        3                             Mario Kart Wii      Wii  2008   \n",
       "3        4                          Wii Sports Resort      Wii  2009   \n",
       "4        5                   Pokemon Red/Pokemon Blue       GB  1996   \n",
       "...    ...                                        ...      ...   ...   \n",
       "2049  2051  Oshare Majo Love and Berry: DS Collection       DS  2006   \n",
       "2050  2052                            Monster Rancher       PS  1997   \n",
       "2051  2053                   The LEGO Movie Videogame      PS3  2014   \n",
       "2052  2054                                     DiRT 2      PS3  2009   \n",
       "2053  2055                             Rayman Legends      PS4  2014   \n",
       "\n",
       "             genre                               publisher  na_sales  \\\n",
       "0           Sports                                Nintendo     41.49   \n",
       "1         Platform                                Nintendo     29.08   \n",
       "2           Racing                                Nintendo     15.85   \n",
       "3           Sports                                Nintendo     15.75   \n",
       "4     Role-Playing                                Nintendo     11.27   \n",
       "...            ...                                     ...       ...   \n",
       "2049          Misc                                    Sega      0.00   \n",
       "2050    Simulation                              Tecmo Koei      0.12   \n",
       "2051        Action  Warner Bros. Interactive Entertainment      0.33   \n",
       "2052        Racing                             Codemasters      0.27   \n",
       "2053      Platform                                 Ubisoft      0.21   \n",
       "\n",
       "      eu_sales  jp_sales  other_sales  global_sales  \n",
       "0        29.02      3.77         8.46         82.74  \n",
       "1         3.58      6.81         0.77         40.24  \n",
       "2        12.88      3.79         3.31         35.82  \n",
       "3        11.01      3.28         2.96         33.00  \n",
       "4         8.89     10.22         1.00         31.37  \n",
       "...        ...       ...          ...           ...  \n",
       "2049      0.00      1.01         0.00          1.01  \n",
       "2050      0.08      0.74         0.07          1.01  \n",
       "2051      0.48      0.02         0.18          1.01  \n",
       "2052      0.53      0.00         0.20          1.01  \n",
       "2053      0.61      0.00         0.18          1.01  \n",
       "\n",
       "[2031 rows x 11 columns]"
      ]
     },
     "execution_count": 4,
     "metadata": {},
     "output_type": "execute_result"
    }
   ],
   "source": [
    "games"
   ]
  },
  {
   "cell_type": "code",
   "execution_count": 5,
   "id": "4fbd41eb",
   "metadata": {},
   "outputs": [],
   "source": [
    "# Drop the 'global_sales' and 'rank' columns to prevent possible data leakage.\n",
    "games.drop(columns=['global_sales', 'rank'], inplace=True)"
   ]
  },
  {
   "cell_type": "code",
   "execution_count": 6,
   "id": "5d3d8ca5",
   "metadata": {},
   "outputs": [
    {
     "data": {
      "text/html": [
       "<div>\n",
       "<style scoped>\n",
       "    .dataframe tbody tr th:only-of-type {\n",
       "        vertical-align: middle;\n",
       "    }\n",
       "\n",
       "    .dataframe tbody tr th {\n",
       "        vertical-align: top;\n",
       "    }\n",
       "\n",
       "    .dataframe thead th {\n",
       "        text-align: right;\n",
       "    }\n",
       "</style>\n",
       "<table border=\"1\" class=\"dataframe\">\n",
       "  <thead>\n",
       "    <tr style=\"text-align: right;\">\n",
       "      <th></th>\n",
       "      <th>name</th>\n",
       "      <th>platform</th>\n",
       "      <th>year</th>\n",
       "      <th>genre</th>\n",
       "      <th>publisher</th>\n",
       "      <th>na_sales</th>\n",
       "      <th>eu_sales</th>\n",
       "      <th>jp_sales</th>\n",
       "      <th>other_sales</th>\n",
       "    </tr>\n",
       "  </thead>\n",
       "  <tbody>\n",
       "    <tr>\n",
       "      <th>0</th>\n",
       "      <td>Wii Sports</td>\n",
       "      <td>Wii</td>\n",
       "      <td>2006</td>\n",
       "      <td>Sports</td>\n",
       "      <td>Nintendo</td>\n",
       "      <td>41.49</td>\n",
       "      <td>29.02</td>\n",
       "      <td>3.77</td>\n",
       "      <td>8.46</td>\n",
       "    </tr>\n",
       "    <tr>\n",
       "      <th>1</th>\n",
       "      <td>Super Mario Bros.</td>\n",
       "      <td>NES</td>\n",
       "      <td>1985</td>\n",
       "      <td>Platform</td>\n",
       "      <td>Nintendo</td>\n",
       "      <td>29.08</td>\n",
       "      <td>3.58</td>\n",
       "      <td>6.81</td>\n",
       "      <td>0.77</td>\n",
       "    </tr>\n",
       "    <tr>\n",
       "      <th>2</th>\n",
       "      <td>Mario Kart Wii</td>\n",
       "      <td>Wii</td>\n",
       "      <td>2008</td>\n",
       "      <td>Racing</td>\n",
       "      <td>Nintendo</td>\n",
       "      <td>15.85</td>\n",
       "      <td>12.88</td>\n",
       "      <td>3.79</td>\n",
       "      <td>3.31</td>\n",
       "    </tr>\n",
       "    <tr>\n",
       "      <th>3</th>\n",
       "      <td>Wii Sports Resort</td>\n",
       "      <td>Wii</td>\n",
       "      <td>2009</td>\n",
       "      <td>Sports</td>\n",
       "      <td>Nintendo</td>\n",
       "      <td>15.75</td>\n",
       "      <td>11.01</td>\n",
       "      <td>3.28</td>\n",
       "      <td>2.96</td>\n",
       "    </tr>\n",
       "    <tr>\n",
       "      <th>4</th>\n",
       "      <td>Pokemon Red/Pokemon Blue</td>\n",
       "      <td>GB</td>\n",
       "      <td>1996</td>\n",
       "      <td>Role-Playing</td>\n",
       "      <td>Nintendo</td>\n",
       "      <td>11.27</td>\n",
       "      <td>8.89</td>\n",
       "      <td>10.22</td>\n",
       "      <td>1.00</td>\n",
       "    </tr>\n",
       "    <tr>\n",
       "      <th>...</th>\n",
       "      <td>...</td>\n",
       "      <td>...</td>\n",
       "      <td>...</td>\n",
       "      <td>...</td>\n",
       "      <td>...</td>\n",
       "      <td>...</td>\n",
       "      <td>...</td>\n",
       "      <td>...</td>\n",
       "      <td>...</td>\n",
       "    </tr>\n",
       "    <tr>\n",
       "      <th>2049</th>\n",
       "      <td>Oshare Majo Love and Berry: DS Collection</td>\n",
       "      <td>DS</td>\n",
       "      <td>2006</td>\n",
       "      <td>Misc</td>\n",
       "      <td>Sega</td>\n",
       "      <td>0.00</td>\n",
       "      <td>0.00</td>\n",
       "      <td>1.01</td>\n",
       "      <td>0.00</td>\n",
       "    </tr>\n",
       "    <tr>\n",
       "      <th>2050</th>\n",
       "      <td>Monster Rancher</td>\n",
       "      <td>PS</td>\n",
       "      <td>1997</td>\n",
       "      <td>Simulation</td>\n",
       "      <td>Tecmo Koei</td>\n",
       "      <td>0.12</td>\n",
       "      <td>0.08</td>\n",
       "      <td>0.74</td>\n",
       "      <td>0.07</td>\n",
       "    </tr>\n",
       "    <tr>\n",
       "      <th>2051</th>\n",
       "      <td>The LEGO Movie Videogame</td>\n",
       "      <td>PS3</td>\n",
       "      <td>2014</td>\n",
       "      <td>Action</td>\n",
       "      <td>Warner Bros. Interactive Entertainment</td>\n",
       "      <td>0.33</td>\n",
       "      <td>0.48</td>\n",
       "      <td>0.02</td>\n",
       "      <td>0.18</td>\n",
       "    </tr>\n",
       "    <tr>\n",
       "      <th>2052</th>\n",
       "      <td>DiRT 2</td>\n",
       "      <td>PS3</td>\n",
       "      <td>2009</td>\n",
       "      <td>Racing</td>\n",
       "      <td>Codemasters</td>\n",
       "      <td>0.27</td>\n",
       "      <td>0.53</td>\n",
       "      <td>0.00</td>\n",
       "      <td>0.20</td>\n",
       "    </tr>\n",
       "    <tr>\n",
       "      <th>2053</th>\n",
       "      <td>Rayman Legends</td>\n",
       "      <td>PS4</td>\n",
       "      <td>2014</td>\n",
       "      <td>Platform</td>\n",
       "      <td>Ubisoft</td>\n",
       "      <td>0.21</td>\n",
       "      <td>0.61</td>\n",
       "      <td>0.00</td>\n",
       "      <td>0.18</td>\n",
       "    </tr>\n",
       "  </tbody>\n",
       "</table>\n",
       "<p>2031 rows × 9 columns</p>\n",
       "</div>"
      ],
      "text/plain": [
       "                                           name platform  year         genre  \\\n",
       "0                                    Wii Sports      Wii  2006        Sports   \n",
       "1                             Super Mario Bros.      NES  1985      Platform   \n",
       "2                                Mario Kart Wii      Wii  2008        Racing   \n",
       "3                             Wii Sports Resort      Wii  2009        Sports   \n",
       "4                      Pokemon Red/Pokemon Blue       GB  1996  Role-Playing   \n",
       "...                                         ...      ...   ...           ...   \n",
       "2049  Oshare Majo Love and Berry: DS Collection       DS  2006          Misc   \n",
       "2050                            Monster Rancher       PS  1997    Simulation   \n",
       "2051                   The LEGO Movie Videogame      PS3  2014        Action   \n",
       "2052                                     DiRT 2      PS3  2009        Racing   \n",
       "2053                             Rayman Legends      PS4  2014      Platform   \n",
       "\n",
       "                                   publisher  na_sales  eu_sales  jp_sales  \\\n",
       "0                                   Nintendo     41.49     29.02      3.77   \n",
       "1                                   Nintendo     29.08      3.58      6.81   \n",
       "2                                   Nintendo     15.85     12.88      3.79   \n",
       "3                                   Nintendo     15.75     11.01      3.28   \n",
       "4                                   Nintendo     11.27      8.89     10.22   \n",
       "...                                      ...       ...       ...       ...   \n",
       "2049                                    Sega      0.00      0.00      1.01   \n",
       "2050                              Tecmo Koei      0.12      0.08      0.74   \n",
       "2051  Warner Bros. Interactive Entertainment      0.33      0.48      0.02   \n",
       "2052                             Codemasters      0.27      0.53      0.00   \n",
       "2053                                 Ubisoft      0.21      0.61      0.00   \n",
       "\n",
       "      other_sales  \n",
       "0            8.46  \n",
       "1            0.77  \n",
       "2            3.31  \n",
       "3            2.96  \n",
       "4            1.00  \n",
       "...           ...  \n",
       "2049         0.00  \n",
       "2050         0.07  \n",
       "2051         0.18  \n",
       "2052         0.20  \n",
       "2053         0.18  \n",
       "\n",
       "[2031 rows x 9 columns]"
      ]
     },
     "execution_count": 6,
     "metadata": {},
     "output_type": "execute_result"
    }
   ],
   "source": [
    "# Verify the change.\n",
    "games"
   ]
  },
  {
   "cell_type": "markdown",
   "id": "a6b2496a",
   "metadata": {},
   "source": [
    "# Visualize Distributions"
   ]
  },
  {
   "cell_type": "code",
   "execution_count": 7,
   "id": "21dc8ff9",
   "metadata": {},
   "outputs": [
    {
     "data": {
      "text/plain": [
       "name            object\n",
       "platform        object\n",
       "year             int64\n",
       "genre           object\n",
       "publisher       object\n",
       "na_sales       float64\n",
       "eu_sales       float64\n",
       "jp_sales       float64\n",
       "other_sales    float64\n",
       "dtype: object"
      ]
     },
     "execution_count": 7,
     "metadata": {},
     "output_type": "execute_result"
    }
   ],
   "source": [
    "games.dtypes"
   ]
  },
  {
   "cell_type": "code",
   "execution_count": 10,
   "id": "67bd9e9f",
   "metadata": {},
   "outputs": [],
   "source": [
    "# Create two separate dataframes. One for quantitative values and the other for qualitative values.\n",
    "quantitative_values = games.select_dtypes(exclude='object').columns\n",
    "qualitative_values = games.select_dtypes(include='object').columns"
   ]
  },
  {
   "cell_type": "code",
   "execution_count": 12,
   "id": "4e0ed444",
   "metadata": {},
   "outputs": [
    {
     "data": {
      "text/plain": [
       "Index(['year', 'na_sales', 'eu_sales', 'jp_sales', 'other_sales'], dtype='object')"
      ]
     },
     "execution_count": 12,
     "metadata": {},
     "output_type": "execute_result"
    }
   ],
   "source": [
    "quantitative_values"
   ]
  },
  {
   "cell_type": "code",
   "execution_count": 13,
   "id": "d2a004ec",
   "metadata": {},
   "outputs": [
    {
     "data": {
      "text/plain": [
       "Index(['name', 'platform', 'genre', 'publisher'], dtype='object')"
      ]
     },
     "execution_count": 13,
     "metadata": {},
     "output_type": "execute_result"
    }
   ],
   "source": [
    "qualitative_values"
   ]
  },
  {
   "cell_type": "markdown",
   "id": "85d1cb7f",
   "metadata": {},
   "source": [
    "### Loop through the quantitative values and show the distribution of each on a separate subplot."
   ]
  },
  {
   "cell_type": "code",
   "execution_count": 20,
   "id": "1070a297",
   "metadata": {},
   "outputs": [
    {
     "data": {
      "image/png": "[encoded data removed]",
      "text/plain": [
       "<Figure size 1152x576 with 5 Axes>"
      ]
     },
     "metadata": {
      "needs_background": "light"
     },
     "output_type": "display_data"
    }
   ],
   "source": [
    "plt.figure(figsize=(16,8))\n",
    "\n",
    "for i, col in enumerate(quantitative_values):\n",
    "    plot_number = i + 1\n",
    "    plt.subplot(2,3,plot_number)\n",
    "    plt.title(col)\n",
    "    games[col].hist()\n",
    "    plt.grid(False)"
   ]
  },
  {
   "cell_type": "code",
   "execution_count": null,
   "id": "448dc794",
   "metadata": {},
   "outputs": [],
   "source": []
  }
 ],
 "metadata": {
  "kernelspec": {
   "display_name": "Python 3 (ipykernel)",
   "language": "python",
   "name": "python3"
  },
  "language_info": {
   "codemirror_mode": {
    "name": "ipython",
    "version": 3
   },
   "file_extension": ".py",
   "mimetype": "text/x-python",
   "name": "python",
   "nbconvert_exporter": "python",
   "pygments_lexer": "ipython3",
   "version": "3.8.8"
  }
 },
 "nbformat": 4,
 "nbformat_minor": 5
}
